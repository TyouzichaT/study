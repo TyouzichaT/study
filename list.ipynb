{
 "cells": [
  {
   "cell_type": "code",
   "execution_count": 4,
   "id": "c61951e4-3a1f-4a71-813e-ae571a89dedf",
   "metadata": {},
   "outputs": [],
   "source": [
    "odds=[1,3,5,7,9,11,13,15]"
   ]
  },
  {
   "cell_type": "code",
   "execution_count": 5,
   "id": "3bedf88f-9575-4dc0-aca4-9022ea4e50ce",
   "metadata": {},
   "outputs": [
    {
     "data": {
      "text/plain": [
       "[1, 3, 5, 7, 9, 11, 13]"
      ]
     },
     "execution_count": 5,
     "metadata": {},
     "output_type": "execute_result"
    }
   ],
   "source": [
    "odds[:-1]"
   ]
  },
  {
   "cell_type": "code",
   "execution_count": 7,
   "id": "06061abb-8464-4d55-bfbb-5c2fb37ad625",
   "metadata": {},
   "outputs": [
    {
     "data": {
      "text/plain": [
       "[1, 5, 9, 13]"
      ]
     },
     "execution_count": 7,
     "metadata": {},
     "output_type": "execute_result"
    }
   ],
   "source": [
    "odds[::2]"
   ]
  },
  {
   "cell_type": "code",
   "execution_count": 10,
   "id": "bd0c4d1c-ba4f-4a2e-8d03-e86c86b908f9",
   "metadata": {},
   "outputs": [],
   "source": [
    "string='Obervation date: 02-Feb-2013'"
   ]
  },
  {
   "cell_type": "code",
   "execution_count": 11,
   "id": "dcf3d102-cb94-47e8-af91-15acf62d5bb2",
   "metadata": {},
   "outputs": [
    {
     "data": {
      "text/plain": [
       "'2013'"
      ]
     },
     "execution_count": 11,
     "metadata": {},
     "output_type": "execute_result"
    }
   ],
   "source": [
    "string[-4:]"
   ]
  },
  {
   "cell_type": "code",
   "execution_count": 12,
   "id": "571b5d41-6c15-4e40-9acf-d899df80e992",
   "metadata": {},
   "outputs": [],
   "source": [
    "battels=\"In an octopus's garden in the shade\""
   ]
  },
  {
   "cell_type": "code",
   "execution_count": 13,
   "id": "67d01ddd-a850-449c-95ab-9e9a8fc28e02",
   "metadata": {},
   "outputs": [
    {
     "data": {
      "text/plain": [
       "'I notpssgre ntesae'"
      ]
     },
     "execution_count": 13,
     "metadata": {},
     "output_type": "execute_result"
    }
   ],
   "source": [
    "battels[::2]"
   ]
  },
  {
   "cell_type": "code",
   "execution_count": null,
   "id": "b7beb1fe-47a6-406c-aa3f-934c5036dbad",
   "metadata": {},
   "outputs": [],
   "source": []
  }
 ],
 "metadata": {
  "kernelspec": {
   "display_name": "Python 3",
   "language": "python",
   "name": "python3"
  },
  "language_info": {
   "codemirror_mode": {
    "name": "ipython",
    "version": 3
   },
   "file_extension": ".py",
   "mimetype": "text/x-python",
   "name": "python",
   "nbconvert_exporter": "python",
   "pygments_lexer": "ipython3",
   "version": "3.8.8"
  }
 },
 "nbformat": 4,
 "nbformat_minor": 5
}
