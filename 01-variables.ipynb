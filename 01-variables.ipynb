{
 "cells": [
  {
   "cell_type": "markdown",
   "id": "ec81df12-fb90-41a1-bc61-79ff68051da7",
   "metadata": {},
   "source": [
    "# varibles\n",
    "\n",
    "this is first line\n",
    "\n",
    "we **are** learning ~~matlab~~ *python* using _jupyter_ notebooks\n"
   ]
  },
  {
   "cell_type": "code",
   "execution_count": 1,
   "id": "8f20df2d-be83-4d79-9c45-f5d2d5bf0edc",
   "metadata": {},
   "outputs": [],
   "source": [
    "weight_kg=55"
   ]
  },
  {
   "cell_type": "code",
   "execution_count": 2,
   "id": "95acdc64-1149-4d92-8b60-2eccb0bc9a4a",
   "metadata": {},
   "outputs": [
    {
     "name": "stdout",
     "output_type": "stream",
     "text": [
      "55\n"
     ]
    }
   ],
   "source": [
    "print(weight_kg)"
   ]
  },
  {
   "cell_type": "code",
   "execution_count": 3,
   "id": "dc20a483-5469-45ac-8887-34edc91a8a6a",
   "metadata": {},
   "outputs": [
    {
     "name": "stdout",
     "output_type": "stream",
     "text": [
      "6 gggg\n"
     ]
    }
   ],
   "source": [
    "n=5\n",
    "n=6\n",
    "m='eeee'\n",
    "m='gggg'\n",
    "\n",
    "print(n,m)"
   ]
  },
  {
   "cell_type": "code",
   "execution_count": null,
   "id": "94ed3ed9-ac7c-4dfc-9e0e-1705d6a478fa",
   "metadata": {},
   "outputs": [],
   "source": []
  }
 ],
 "metadata": {
  "kernelspec": {
   "display_name": "Python 3",
   "language": "python",
   "name": "python3"
  },
  "language_info": {
   "codemirror_mode": {
    "name": "ipython",
    "version": 3
   },
   "file_extension": ".py",
   "mimetype": "text/x-python",
   "name": "python",
   "nbconvert_exporter": "python",
   "pygments_lexer": "ipython3",
   "version": "3.8.8"
  }
 },
 "nbformat": 4,
 "nbformat_minor": 5
}
