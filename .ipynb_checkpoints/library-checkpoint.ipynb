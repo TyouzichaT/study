{
 "cells": [
  {
   "cell_type": "code",
   "execution_count": 1,
   "id": "9721c1df-8bb6-4ed9-9a8e-d5e410331c31",
   "metadata": {},
   "outputs": [],
   "source": [
    "import numpy as np"
   ]
  },
  {
   "cell_type": "code",
   "execution_count": 4,
   "id": "3d8e1816-845a-4290-ac99-6a5290022a0d",
   "metadata": {},
   "outputs": [
    {
     "data": {
      "text/plain": [
       "array([[0., 0., 1., ..., 3., 0., 0.],\n",
       "       [0., 1., 2., ..., 1., 0., 1.],\n",
       "       [0., 1., 1., ..., 2., 1., 1.],\n",
       "       ...,\n",
       "       [0., 1., 1., ..., 1., 1., 1.],\n",
       "       [0., 0., 0., ..., 0., 2., 0.],\n",
       "       [0., 0., 1., ..., 1., 1., 0.]])"
      ]
     },
     "execution_count": 4,
     "metadata": {},
     "output_type": "execute_result"
    }
   ],
   "source": [
    "np.loadtxt(fname='data/inflammation-01.csv',delimiter=',')"
   ]
  },
  {
   "cell_type": "code",
   "execution_count": 5,
   "id": "b45068cf-8b0f-4880-8ce5-3e9b06a5b31a",
   "metadata": {},
   "outputs": [],
   "source": [
    "ari=np.loadtxt(fname='data/inflammation-01.csv',delimiter=',')"
   ]
  },
  {
   "cell_type": "code",
   "execution_count": 6,
   "id": "e479687e-fd33-4cc4-b586-80037c789b54",
   "metadata": {},
   "outputs": [
    {
     "data": {
      "text/plain": [
       "numpy.ndarray"
      ]
     },
     "execution_count": 6,
     "metadata": {},
     "output_type": "execute_result"
    }
   ],
   "source": [
    "type(ari)"
   ]
  },
  {
   "cell_type": "markdown",
   "id": "845c9c77-cf98-4ebb-a712-7dfed83e0fee",
   "metadata": {},
   "source": [
    "# attributes(adjetives)"
   ]
  },
  {
   "cell_type": "code",
   "execution_count": 10,
   "id": "8d7f1f44-a583-431c-a51d-6d288139d387",
   "metadata": {},
   "outputs": [
    {
     "data": {
      "text/plain": [
       "(60, 40)"
      ]
     },
     "execution_count": 10,
     "metadata": {},
     "output_type": "execute_result"
    }
   ],
   "source": [
    "ari.shape\n"
   ]
  },
  {
   "cell_type": "code",
   "execution_count": 11,
   "id": "f6433b6a-9dff-4ea9-841b-0f2050291233",
   "metadata": {},
   "outputs": [
    {
     "data": {
      "text/plain": [
       "60"
      ]
     },
     "execution_count": 11,
     "metadata": {},
     "output_type": "execute_result"
    }
   ],
   "source": [
    "ari.shape[0]"
   ]
  },
  {
   "cell_type": "markdown",
   "id": "962b72db-7bd1-4b7e-bb58-d3b0d88664cf",
   "metadata": {},
   "source": [
    "# operation"
   ]
  },
  {
   "cell_type": "code",
   "execution_count": 16,
   "id": "1efc3353-a724-4f57-af8d-4ce665b2bec7",
   "metadata": {},
   "outputs": [],
   "source": [
    "ori=ari[:3,36:]"
   ]
  },
  {
   "cell_type": "code",
   "execution_count": 17,
   "id": "5b40aeec-f316-403e-9d80-dc98379b569c",
   "metadata": {},
   "outputs": [],
   "source": [
    "double=ori*2"
   ]
  },
  {
   "cell_type": "code",
   "execution_count": 18,
   "id": "ad473ab1-e936-4ad6-9d42-18d87475eccf",
   "metadata": {},
   "outputs": [
    {
     "data": {
      "text/plain": [
       "array([[4., 6., 0., 0.],\n",
       "       [2., 2., 0., 2.],\n",
       "       [4., 4., 2., 2.]])"
      ]
     },
     "execution_count": 18,
     "metadata": {},
     "output_type": "execute_result"
    }
   ],
   "source": [
    "double\n"
   ]
  },
  {
   "cell_type": "code",
   "execution_count": 19,
   "id": "3e5db4c0-5256-4f4b-b150-17b9e1d5d550",
   "metadata": {},
   "outputs": [],
   "source": [
    "patient_0=ari[0,:]"
   ]
  },
  {
   "cell_type": "code",
   "execution_count": 22,
   "id": "818a8cee-03f9-491a-9bf5-ddb14f6b4abc",
   "metadata": {},
   "outputs": [
    {
     "data": {
      "text/plain": [
       "18.0"
      ]
     },
     "execution_count": 22,
     "metadata": {},
     "output_type": "execute_result"
    }
   ],
   "source": [
    "patient_0.max()"
   ]
  },
  {
   "cell_type": "code",
   "execution_count": 24,
   "id": "6ab9d5df-e729-4081-803e-caef93c229d5",
   "metadata": {},
   "outputs": [
    {
     "data": {
      "text/plain": [
       "(60,)"
      ]
     },
     "execution_count": 24,
     "metadata": {},
     "output_type": "execute_result"
    }
   ],
   "source": [
    "ari.max(axis=1).shape"
   ]
  },
  {
   "cell_type": "code",
   "execution_count": 25,
   "id": "f084a614-e925-4dfc-a79a-51ece9e56d4f",
   "metadata": {},
   "outputs": [
    {
     "data": {
      "text/plain": [
       "4.579294680644961"
      ]
     },
     "execution_count": 25,
     "metadata": {},
     "output_type": "execute_result"
    }
   ],
   "source": [
    "np.mean(ari.std(axis=1))"
   ]
  },
  {
   "cell_type": "code",
   "execution_count": 27,
   "id": "139f9d17-e05d-41af-98fb-6a06a4c4dccf",
   "metadata": {},
   "outputs": [
    {
     "data": {
      "text/plain": [
       "4.579294680644961"
      ]
     },
     "execution_count": 27,
     "metadata": {},
     "output_type": "execute_result"
    }
   ],
   "source": [
    "ari.std(axis=1).mean()"
   ]
  },
  {
   "cell_type": "code",
   "execution_count": 28,
   "id": "94ae3dda-32cb-44ef-8ce3-44ac6cf83950",
   "metadata": {},
   "outputs": [
    {
     "data": {
      "text/plain": [
       "numpy.float64"
      ]
     },
     "execution_count": 28,
     "metadata": {},
     "output_type": "execute_result"
    }
   ],
   "source": [
    "type(ari.std(axis=1).mean())"
   ]
  },
  {
   "cell_type": "code",
   "execution_count": null,
   "id": "e29c3307-76f5-44b0-9a3e-bf7498ad14e7",
   "metadata": {},
   "outputs": [],
   "source": []
  }
 ],
 "metadata": {
  "kernelspec": {
   "display_name": "Python 3",
   "language": "python",
   "name": "python3"
  },
  "language_info": {
   "codemirror_mode": {
    "name": "ipython",
    "version": 3
   },
   "file_extension": ".py",
   "mimetype": "text/x-python",
   "name": "python",
   "nbconvert_exporter": "python",
   "pygments_lexer": "ipython3",
   "version": "3.8.8"
  }
 },
 "nbformat": 4,
 "nbformat_minor": 5
}
